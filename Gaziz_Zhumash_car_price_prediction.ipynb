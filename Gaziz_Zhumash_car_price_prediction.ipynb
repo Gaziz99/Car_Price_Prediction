{
 "cells": [
  {
   "cell_type": "markdown",
   "metadata": {
    "papermill": {
     "duration": 0.029718,
     "end_time": "2020-10-26T12:46:41.276296",
     "exception": false,
     "start_time": "2020-10-26T12:46:41.246578",
     "status": "completed"
    },
    "tags": []
   },
   "source": [
    "<img src=\"https://whatcar.vn/media/2018/09/car-lot-940x470.jpg\"/>\n",
    "\n",
    "## Прогнозирование стоимости автомобиля по характеристикам"
   ]
  },
  {
   "cell_type": "code",
   "execution_count": 2,
   "metadata": {
    "_cell_guid": "b1076dfc-b9ad-4769-8c92-a6c4dae69d19",
    "_uuid": "8f2839f25d086af736a60e9eeb907d3b93b6e0e5",
    "execution": {
     "iopub.execute_input": "2020-10-26T12:46:41.400302Z",
     "iopub.status.busy": "2020-10-26T12:46:41.399317Z",
     "iopub.status.idle": "2020-10-26T12:46:42.581426Z",
     "shell.execute_reply": "2020-10-26T12:46:42.580431Z"
    },
    "papermill": {
     "duration": 1.219772,
     "end_time": "2020-10-26T12:46:42.581597",
     "exception": false,
     "start_time": "2020-10-26T12:46:41.361825",
     "status": "completed"
    },
    "tags": []
   },
   "outputs": [],
   "source": [
    "import numpy as np # linear algebra\n",
    "import pandas as pd # data processing, CSV file I/O (e.g. pd.read_csv)\n",
    "import sys\n",
    "from sklearn.model_selection import train_test_split\n",
    "from sklearn.model_selection import KFold\n",
    "from tqdm.notebook import tqdm\n",
    "from catboost import CatBoostRegressor\n",
    "from sklearn.preprocessing import LabelEncoder\n",
    "from sklearn.ensemble import RandomForestRegressor\n",
    "from sklearn.model_selection import RandomizedSearchCV"
   ]
  },
  {
   "cell_type": "code",
   "execution_count": 3,
   "metadata": {
    "_kg_hide-input": true,
    "execution": {
     "iopub.execute_input": "2020-10-26T12:46:42.646795Z",
     "iopub.status.busy": "2020-10-26T12:46:42.645765Z",
     "iopub.status.idle": "2020-10-26T12:46:42.649793Z",
     "shell.execute_reply": "2020-10-26T12:46:42.650407Z"
    },
    "papermill": {
     "duration": 0.040034,
     "end_time": "2020-10-26T12:46:42.650603",
     "exception": false,
     "start_time": "2020-10-26T12:46:42.610569",
     "status": "completed"
    },
    "tags": []
   },
   "outputs": [
    {
     "name": "stdout",
     "output_type": "stream",
     "text": [
      "Python       : 3.8.3 (default, Jul  2 2020, 11:26:31) \n",
      "Numpy        : 1.18.5\n"
     ]
    }
   ],
   "source": [
    "print('Python       :', sys.version.split('\\n')[0])\n",
    "print('Numpy        :', np.__version__)"
   ]
  },
  {
   "cell_type": "code",
   "execution_count": 4,
   "metadata": {
    "_kg_hide-input": true,
    "execution": {
     "iopub.execute_input": "2020-10-26T12:46:42.716039Z",
     "iopub.status.busy": "2020-10-26T12:46:42.715184Z",
     "iopub.status.idle": "2020-10-26T12:46:47.852433Z",
     "shell.execute_reply": "2020-10-26T12:46:47.851661Z"
    },
    "papermill": {
     "duration": 5.172536,
     "end_time": "2020-10-26T12:46:47.852593",
     "exception": false,
     "start_time": "2020-10-26T12:46:42.680057",
     "status": "completed"
    },
    "tags": []
   },
   "outputs": [],
   "source": [
    "# зафиксируем версию пакетов, чтобы эксперименты были воспроизводимы:\n",
    "!pip freeze > requirements.txt"
   ]
  },
  {
   "cell_type": "code",
   "execution_count": 5,
   "metadata": {
    "execution": {
     "iopub.execute_input": "2020-10-26T12:46:47.919419Z",
     "iopub.status.busy": "2020-10-26T12:46:47.918168Z",
     "iopub.status.idle": "2020-10-26T12:46:47.922267Z",
     "shell.execute_reply": "2020-10-26T12:46:47.921365Z"
    },
    "papermill": {
     "duration": 0.039842,
     "end_time": "2020-10-26T12:46:47.922434",
     "exception": false,
     "start_time": "2020-10-26T12:46:47.882592",
     "status": "completed"
    },
    "tags": []
   },
   "outputs": [],
   "source": [
    "# всегда фиксируйте RANDOM_SEED, чтобы ваши эксперименты были воспроизводимы!\n",
    "RANDOM_SEED = 42"
   ]
  },
  {
   "cell_type": "code",
   "execution_count": 6,
   "metadata": {
    "_kg_hide-input": true
   },
   "outputs": [],
   "source": [
    "def mape(y_true, y_pred):\n",
    "    return np.mean(np.abs((y_pred-y_true)/y_true))"
   ]
  },
  {
   "cell_type": "markdown",
   "metadata": {
    "papermill": {
     "duration": 0.028837,
     "end_time": "2020-10-26T12:46:47.981435",
     "exception": false,
     "start_time": "2020-10-26T12:46:47.952598",
     "status": "completed"
    },
    "tags": []
   },
   "source": [
    "# Setup"
   ]
  },
  {
   "cell_type": "code",
   "execution_count": 7,
   "metadata": {
    "execution": {
     "iopub.execute_input": "2020-10-26T12:46:48.05046Z",
     "iopub.status.busy": "2020-10-26T12:46:48.049412Z",
     "iopub.status.idle": "2020-10-26T12:46:48.052578Z",
     "shell.execute_reply": "2020-10-26T12:46:48.051917Z"
    },
    "papermill": {
     "duration": 0.039969,
     "end_time": "2020-10-26T12:46:48.052728",
     "exception": false,
     "start_time": "2020-10-26T12:46:48.012759",
     "status": "completed"
    },
    "tags": []
   },
   "outputs": [],
   "source": [
    "VERSION    = 16\n",
    "DIR_TRAIN  = '/Users/gaziz/Downloads/' # подключил к ноутбуку внешний датасет\n",
    "DIR_TEST   = '/Users/gaziz/Downloads/'\n",
    "VAL_SIZE   = 0.20   # 20%"
   ]
  },
  {
   "cell_type": "markdown",
   "metadata": {
    "papermill": {
     "duration": 0.030254,
     "end_time": "2020-10-26T12:46:48.112586",
     "exception": false,
     "start_time": "2020-10-26T12:46:48.082332",
     "status": "completed"
    },
    "tags": []
   },
   "source": [
    "# Data"
   ]
  },
  {
   "cell_type": "code",
   "execution_count": 8,
   "metadata": {
    "_cell_guid": "79c7e3d0-c299-4dcb-8224-4455121ee9b0",
    "_uuid": "d629ff2d2480ee46fbb7e2d37f6b5fab8052498a",
    "execution": {
     "iopub.execute_input": "2020-10-26T12:46:49.007668Z",
     "iopub.status.busy": "2020-10-26T12:46:49.006762Z",
     "iopub.status.idle": "2020-10-26T12:47:02.121152Z",
     "shell.execute_reply": "2020-10-26T12:47:02.120434Z"
    },
    "papermill": {
     "duration": 13.16556,
     "end_time": "2020-10-26T12:47:02.12133",
     "exception": false,
     "start_time": "2020-10-26T12:46:48.95577",
     "status": "completed"
    },
    "tags": []
   },
   "outputs": [
    {
     "data": {
      "text/html": [
       "<div>\n",
       "<style scoped>\n",
       "    .dataframe tbody tr th:only-of-type {\n",
       "        vertical-align: middle;\n",
       "    }\n",
       "\n",
       "    .dataframe tbody tr th {\n",
       "        vertical-align: top;\n",
       "    }\n",
       "\n",
       "    .dataframe thead th {\n",
       "        text-align: right;\n",
       "    }\n",
       "</style>\n",
       "<table border=\"1\" class=\"dataframe\">\n",
       "  <thead>\n",
       "    <tr style=\"text-align: right;\">\n",
       "      <th></th>\n",
       "      <th>bodyType</th>\n",
       "      <th>brand</th>\n",
       "      <th>color</th>\n",
       "      <th>fuelType</th>\n",
       "      <th>modelDate</th>\n",
       "      <th>name</th>\n",
       "      <th>numberOfDoors</th>\n",
       "      <th>productionDate</th>\n",
       "      <th>vehicleConfiguration</th>\n",
       "      <th>vehicleTransmission</th>\n",
       "      <th>engineDisplacement</th>\n",
       "      <th>enginePower</th>\n",
       "      <th>description</th>\n",
       "      <th>mileage</th>\n",
       "      <th>Комплектация</th>\n",
       "      <th>Привод</th>\n",
       "      <th>Руль</th>\n",
       "      <th>Состояние</th>\n",
       "      <th>Владельцы</th>\n",
       "      <th>ПТС</th>\n",
       "      <th>Таможня</th>\n",
       "      <th>Владение</th>\n",
       "      <th>price</th>\n",
       "      <th>start_date</th>\n",
       "      <th>hidden</th>\n",
       "      <th>model</th>\n",
       "    </tr>\n",
       "  </thead>\n",
       "  <tbody>\n",
       "    <tr>\n",
       "      <th>0</th>\n",
       "      <td>Седан</td>\n",
       "      <td>AUDI</td>\n",
       "      <td>040001</td>\n",
       "      <td>бензин</td>\n",
       "      <td>1990.0</td>\n",
       "      <td>2.8 MT (174 л.с.) 4WD</td>\n",
       "      <td>4.0</td>\n",
       "      <td>1991</td>\n",
       "      <td>SEDAN MECHANICAL 2.8</td>\n",
       "      <td>MECHANICAL</td>\n",
       "      <td>2.8</td>\n",
       "      <td>174.0</td>\n",
       "      <td>Машина  в приличном состоянии ,не гнилая не р...</td>\n",
       "      <td>350000</td>\n",
       "      <td>{'id': '0'}</td>\n",
       "      <td>полный</td>\n",
       "      <td>LEFT</td>\n",
       "      <td>NaN</td>\n",
       "      <td>3.0</td>\n",
       "      <td>ORIGINAL</td>\n",
       "      <td>True</td>\n",
       "      <td>NaN</td>\n",
       "      <td>200000.0</td>\n",
       "      <td>2019-10-03T08:09:11Z</td>\n",
       "      <td>NaN</td>\n",
       "      <td>100</td>\n",
       "    </tr>\n",
       "    <tr>\n",
       "      <th>1</th>\n",
       "      <td>Седан</td>\n",
       "      <td>AUDI</td>\n",
       "      <td>EE1D19</td>\n",
       "      <td>бензин</td>\n",
       "      <td>1982.0</td>\n",
       "      <td>1.8 MT (90 л.с.)</td>\n",
       "      <td>4.0</td>\n",
       "      <td>1986</td>\n",
       "      <td>SEDAN MECHANICAL 1.8</td>\n",
       "      <td>MECHANICAL</td>\n",
       "      <td>1.8</td>\n",
       "      <td>90.0</td>\n",
       "      <td>Машина в оригинале не гнилая все вопросы по те...</td>\n",
       "      <td>173424</td>\n",
       "      <td>{'id': '0'}</td>\n",
       "      <td>передний</td>\n",
       "      <td>LEFT</td>\n",
       "      <td>NaN</td>\n",
       "      <td>3.0</td>\n",
       "      <td>ORIGINAL</td>\n",
       "      <td>True</td>\n",
       "      <td>NaN</td>\n",
       "      <td>60000.0</td>\n",
       "      <td>2020-09-06T06:49:40Z</td>\n",
       "      <td>NaN</td>\n",
       "      <td>100</td>\n",
       "    </tr>\n",
       "    <tr>\n",
       "      <th>2</th>\n",
       "      <td>Универсал 5 дв.</td>\n",
       "      <td>AUDI</td>\n",
       "      <td>0000CC</td>\n",
       "      <td>бензин</td>\n",
       "      <td>1988.0</td>\n",
       "      <td>2.3 MT (136 л.с.) 4WD</td>\n",
       "      <td>5.0</td>\n",
       "      <td>1989</td>\n",
       "      <td>WAGON_5_DOORS MECHANICAL 2.3</td>\n",
       "      <td>MECHANICAL</td>\n",
       "      <td>2.3</td>\n",
       "      <td>136.0</td>\n",
       "      <td>ПТС Оригинал!\\nПолный комплект ключей!\\nПо рез...</td>\n",
       "      <td>230000</td>\n",
       "      <td>{'id': '0'}</td>\n",
       "      <td>полный</td>\n",
       "      <td>LEFT</td>\n",
       "      <td>NaN</td>\n",
       "      <td>3.0</td>\n",
       "      <td>ORIGINAL</td>\n",
       "      <td>True</td>\n",
       "      <td>NaN</td>\n",
       "      <td>99000.0</td>\n",
       "      <td>2020-09-02T14:04:21Z</td>\n",
       "      <td>NaN</td>\n",
       "      <td>100</td>\n",
       "    </tr>\n",
       "    <tr>\n",
       "      <th>3</th>\n",
       "      <td>Седан</td>\n",
       "      <td>AUDI</td>\n",
       "      <td>CACECB</td>\n",
       "      <td>бензин</td>\n",
       "      <td>1988.0</td>\n",
       "      <td>1.8 MT (90 л.с.)</td>\n",
       "      <td>4.0</td>\n",
       "      <td>1989</td>\n",
       "      <td>SEDAN MECHANICAL 1.8</td>\n",
       "      <td>MECHANICAL</td>\n",
       "      <td>1.8</td>\n",
       "      <td>90.0</td>\n",
       "      <td>NaN</td>\n",
       "      <td>240000</td>\n",
       "      <td>{'id': '0'}</td>\n",
       "      <td>передний</td>\n",
       "      <td>LEFT</td>\n",
       "      <td>NaN</td>\n",
       "      <td>3.0</td>\n",
       "      <td>ORIGINAL</td>\n",
       "      <td>True</td>\n",
       "      <td>NaN</td>\n",
       "      <td>65000.0</td>\n",
       "      <td>2020-08-23T17:40:09Z</td>\n",
       "      <td>NaN</td>\n",
       "      <td>100</td>\n",
       "    </tr>\n",
       "    <tr>\n",
       "      <th>4</th>\n",
       "      <td>Седан</td>\n",
       "      <td>AUDI</td>\n",
       "      <td>040001</td>\n",
       "      <td>бензин</td>\n",
       "      <td>1990.0</td>\n",
       "      <td>2.0 MT (101 л.с.)</td>\n",
       "      <td>4.0</td>\n",
       "      <td>1991</td>\n",
       "      <td>SEDAN MECHANICAL 2.0</td>\n",
       "      <td>MECHANICAL</td>\n",
       "      <td>2.0</td>\n",
       "      <td>101.0</td>\n",
       "      <td>Машина не гнилая, дыр нет, днище целое, даже в...</td>\n",
       "      <td>300000</td>\n",
       "      <td>{'id': '0'}</td>\n",
       "      <td>передний</td>\n",
       "      <td>LEFT</td>\n",
       "      <td>NaN</td>\n",
       "      <td>3.0</td>\n",
       "      <td>DUPLICATE</td>\n",
       "      <td>True</td>\n",
       "      <td>NaN</td>\n",
       "      <td>100000.0</td>\n",
       "      <td>2020-09-08T09:22:07Z</td>\n",
       "      <td>NaN</td>\n",
       "      <td>100</td>\n",
       "    </tr>\n",
       "  </tbody>\n",
       "</table>\n",
       "</div>"
      ],
      "text/plain": [
       "          bodyType brand   color fuelType  modelDate                   name  \\\n",
       "0            Седан  AUDI  040001   бензин     1990.0  2.8 MT (174 л.с.) 4WD   \n",
       "1            Седан  AUDI  EE1D19   бензин     1982.0       1.8 MT (90 л.с.)   \n",
       "2  Универсал 5 дв.  AUDI  0000CC   бензин     1988.0  2.3 MT (136 л.с.) 4WD   \n",
       "3            Седан  AUDI  CACECB   бензин     1988.0       1.8 MT (90 л.с.)   \n",
       "4            Седан  AUDI  040001   бензин     1990.0      2.0 MT (101 л.с.)   \n",
       "\n",
       "   numberOfDoors  productionDate          vehicleConfiguration  \\\n",
       "0            4.0            1991          SEDAN MECHANICAL 2.8   \n",
       "1            4.0            1986          SEDAN MECHANICAL 1.8   \n",
       "2            5.0            1989  WAGON_5_DOORS MECHANICAL 2.3   \n",
       "3            4.0            1989          SEDAN MECHANICAL 1.8   \n",
       "4            4.0            1991          SEDAN MECHANICAL 2.0   \n",
       "\n",
       "  vehicleTransmission engineDisplacement  enginePower  \\\n",
       "0          MECHANICAL                2.8        174.0   \n",
       "1          MECHANICAL                1.8         90.0   \n",
       "2          MECHANICAL                2.3        136.0   \n",
       "3          MECHANICAL                1.8         90.0   \n",
       "4          MECHANICAL                2.0        101.0   \n",
       "\n",
       "                                         description  mileage Комплектация  \\\n",
       "0   Машина  в приличном состоянии ,не гнилая не р...   350000  {'id': '0'}   \n",
       "1  Машина в оригинале не гнилая все вопросы по те...   173424  {'id': '0'}   \n",
       "2  ПТС Оригинал!\\nПолный комплект ключей!\\nПо рез...   230000  {'id': '0'}   \n",
       "3                                                NaN   240000  {'id': '0'}   \n",
       "4  Машина не гнилая, дыр нет, днище целое, даже в...   300000  {'id': '0'}   \n",
       "\n",
       "     Привод  Руль  Состояние  Владельцы        ПТС  Таможня Владение  \\\n",
       "0    полный  LEFT        NaN        3.0   ORIGINAL     True      NaN   \n",
       "1  передний  LEFT        NaN        3.0   ORIGINAL     True      NaN   \n",
       "2    полный  LEFT        NaN        3.0   ORIGINAL     True      NaN   \n",
       "3  передний  LEFT        NaN        3.0   ORIGINAL     True      NaN   \n",
       "4  передний  LEFT        NaN        3.0  DUPLICATE     True      NaN   \n",
       "\n",
       "      price            start_date  hidden model  \n",
       "0  200000.0  2019-10-03T08:09:11Z     NaN   100  \n",
       "1   60000.0  2020-09-06T06:49:40Z     NaN   100  \n",
       "2   99000.0  2020-09-02T14:04:21Z     NaN   100  \n",
       "3   65000.0  2020-08-23T17:40:09Z     NaN   100  \n",
       "4  100000.0  2020-09-08T09:22:07Z     NaN   100  "
      ]
     },
     "metadata": {},
     "output_type": "display_data"
    },
    {
     "data": {
      "text/html": [
       "<div>\n",
       "<style scoped>\n",
       "    .dataframe tbody tr th:only-of-type {\n",
       "        vertical-align: middle;\n",
       "    }\n",
       "\n",
       "    .dataframe tbody tr th {\n",
       "        vertical-align: top;\n",
       "    }\n",
       "\n",
       "    .dataframe thead th {\n",
       "        text-align: right;\n",
       "    }\n",
       "</style>\n",
       "<table border=\"1\" class=\"dataframe\">\n",
       "  <thead>\n",
       "    <tr style=\"text-align: right;\">\n",
       "      <th></th>\n",
       "      <th>bodyType</th>\n",
       "      <th>brand</th>\n",
       "      <th>car_url</th>\n",
       "      <th>color</th>\n",
       "      <th>complectation_dict</th>\n",
       "      <th>description</th>\n",
       "      <th>engineDisplacement</th>\n",
       "      <th>enginePower</th>\n",
       "      <th>equipment_dict</th>\n",
       "      <th>fuelType</th>\n",
       "      <th>image</th>\n",
       "      <th>mileage</th>\n",
       "      <th>modelDate</th>\n",
       "      <th>model_info</th>\n",
       "      <th>model_name</th>\n",
       "      <th>name</th>\n",
       "      <th>numberOfDoors</th>\n",
       "      <th>parsing_unixtime</th>\n",
       "      <th>priceCurrency</th>\n",
       "      <th>productionDate</th>\n",
       "      <th>sell_id</th>\n",
       "      <th>super_gen</th>\n",
       "      <th>vehicleConfiguration</th>\n",
       "      <th>vehicleTransmission</th>\n",
       "      <th>vendor</th>\n",
       "      <th>Владельцы</th>\n",
       "      <th>Владение</th>\n",
       "      <th>ПТС</th>\n",
       "      <th>Привод</th>\n",
       "      <th>Руль</th>\n",
       "      <th>Состояние</th>\n",
       "      <th>Таможня</th>\n",
       "    </tr>\n",
       "  </thead>\n",
       "  <tbody>\n",
       "    <tr>\n",
       "      <th>0</th>\n",
       "      <td>лифтбек</td>\n",
       "      <td>SKODA</td>\n",
       "      <td>https://auto.ru/cars/used/sale/skoda/octavia/1...</td>\n",
       "      <td>синий</td>\n",
       "      <td>NaN</td>\n",
       "      <td>Все автомобили, представленные в продаже, прох...</td>\n",
       "      <td>1.2 LTR</td>\n",
       "      <td>105 N12</td>\n",
       "      <td>{\"engine-proof\":true,\"tinted-glass\":true,\"airb...</td>\n",
       "      <td>бензин</td>\n",
       "      <td>https://autoru.naydex.net/o9DBXQ270/5ac010hAY0...</td>\n",
       "      <td>74000</td>\n",
       "      <td>2013</td>\n",
       "      <td>{\"code\":\"OCTAVIA\",\"name\":\"Octavia\",\"ru_name\":\"...</td>\n",
       "      <td>OCTAVIA</td>\n",
       "      <td>1.2 AMT (105 л.с.)</td>\n",
       "      <td>5</td>\n",
       "      <td>1603226273</td>\n",
       "      <td>RUB</td>\n",
       "      <td>2014</td>\n",
       "      <td>1100575026</td>\n",
       "      <td>{\"id\":\"10373605\",\"displacement\":1197,\"engine_t...</td>\n",
       "      <td>LIFTBACK ROBOT 1.2</td>\n",
       "      <td>роботизированная</td>\n",
       "      <td>EUROPEAN</td>\n",
       "      <td>3 или более</td>\n",
       "      <td>NaN</td>\n",
       "      <td>Оригинал</td>\n",
       "      <td>передний</td>\n",
       "      <td>Левый</td>\n",
       "      <td>Не требует ремонта</td>\n",
       "      <td>Растаможен</td>\n",
       "    </tr>\n",
       "    <tr>\n",
       "      <th>1</th>\n",
       "      <td>лифтбек</td>\n",
       "      <td>SKODA</td>\n",
       "      <td>https://auto.ru/cars/used/sale/skoda/octavia/1...</td>\n",
       "      <td>чёрный</td>\n",
       "      <td>NaN</td>\n",
       "      <td>ЛОТ: 01217195\\nАвтопрага Север\\nДанный автомоб...</td>\n",
       "      <td>1.6 LTR</td>\n",
       "      <td>110 N12</td>\n",
       "      <td>{\"cruise-control\":true,\"asr\":true,\"esp\":true,\"...</td>\n",
       "      <td>бензин</td>\n",
       "      <td>https://autoru.naydex.net/o9DBXQ270/5ac010hAY0...</td>\n",
       "      <td>60563</td>\n",
       "      <td>2017</td>\n",
       "      <td>{\"code\":\"OCTAVIA\",\"name\":\"Octavia\",\"ru_name\":\"...</td>\n",
       "      <td>OCTAVIA</td>\n",
       "      <td>1.6 MT (110 л.с.)</td>\n",
       "      <td>5</td>\n",
       "      <td>1603226277</td>\n",
       "      <td>RUB</td>\n",
       "      <td>2017</td>\n",
       "      <td>1100549428</td>\n",
       "      <td>{\"id\":\"20913311\",\"displacement\":1598,\"engine_t...</td>\n",
       "      <td>LIFTBACK MECHANICAL 1.6</td>\n",
       "      <td>механическая</td>\n",
       "      <td>EUROPEAN</td>\n",
       "      <td>1 владелец</td>\n",
       "      <td>NaN</td>\n",
       "      <td>Оригинал</td>\n",
       "      <td>передний</td>\n",
       "      <td>Левый</td>\n",
       "      <td>Не требует ремонта</td>\n",
       "      <td>Растаможен</td>\n",
       "    </tr>\n",
       "    <tr>\n",
       "      <th>2</th>\n",
       "      <td>лифтбек</td>\n",
       "      <td>SKODA</td>\n",
       "      <td>https://auto.ru/cars/used/sale/skoda/superb/11...</td>\n",
       "      <td>серый</td>\n",
       "      <td>{\"id\":\"20026336\",\"name\":\"Ambition\",\"available_...</td>\n",
       "      <td>Все автомобили, представленные в продаже, прох...</td>\n",
       "      <td>1.8 LTR</td>\n",
       "      <td>152 N12</td>\n",
       "      <td>{\"cruise-control\":true,\"tinted-glass\":true,\"es...</td>\n",
       "      <td>бензин</td>\n",
       "      <td>https://avatars.mds.yandex.net/get-autoru-vos/...</td>\n",
       "      <td>88000</td>\n",
       "      <td>2013</td>\n",
       "      <td>{\"code\":\"SUPERB\",\"name\":\"Superb\",\"ru_name\":\"Су...</td>\n",
       "      <td>SUPERB</td>\n",
       "      <td>DSG 1.8 AMT (152 л.с.)</td>\n",
       "      <td>5</td>\n",
       "      <td>1603226280</td>\n",
       "      <td>RUB</td>\n",
       "      <td>2014</td>\n",
       "      <td>1100658222</td>\n",
       "      <td>{\"id\":\"20026323\",\"nameplate\":\"DSG\",\"displaceme...</td>\n",
       "      <td>LIFTBACK ROBOT 1.8</td>\n",
       "      <td>роботизированная</td>\n",
       "      <td>EUROPEAN</td>\n",
       "      <td>1 владелец</td>\n",
       "      <td>NaN</td>\n",
       "      <td>Оригинал</td>\n",
       "      <td>передний</td>\n",
       "      <td>Левый</td>\n",
       "      <td>Не требует ремонта</td>\n",
       "      <td>Растаможен</td>\n",
       "    </tr>\n",
       "    <tr>\n",
       "      <th>3</th>\n",
       "      <td>лифтбек</td>\n",
       "      <td>SKODA</td>\n",
       "      <td>https://auto.ru/cars/used/sale/skoda/octavia/1...</td>\n",
       "      <td>коричневый</td>\n",
       "      <td>{\"id\":\"20803582\",\"name\":\"Ambition\",\"available_...</td>\n",
       "      <td>КОМПЛЕКТ ЗИМНЕЙ (ЛЕТНЕЙ) РЕЗИНЫ ПО СЕЗОНУ В ПО...</td>\n",
       "      <td>1.6 LTR</td>\n",
       "      <td>110 N12</td>\n",
       "      <td>{\"cruise-control\":true,\"roller-blind-for-rear-...</td>\n",
       "      <td>бензин</td>\n",
       "      <td>https://autoru.naydex.net/o9DBXQ270/5ac010hAY0...</td>\n",
       "      <td>95000</td>\n",
       "      <td>2013</td>\n",
       "      <td>{\"code\":\"OCTAVIA\",\"name\":\"Octavia\",\"ru_name\":\"...</td>\n",
       "      <td>OCTAVIA</td>\n",
       "      <td>1.6 AT (110 л.с.)</td>\n",
       "      <td>5</td>\n",
       "      <td>1603226284</td>\n",
       "      <td>RUB</td>\n",
       "      <td>2014</td>\n",
       "      <td>1100937408</td>\n",
       "      <td>{\"id\":\"20105521\",\"displacement\":1598,\"engine_t...</td>\n",
       "      <td>LIFTBACK AUTOMATIC 1.6</td>\n",
       "      <td>автоматическая</td>\n",
       "      <td>EUROPEAN</td>\n",
       "      <td>1 владелец</td>\n",
       "      <td>NaN</td>\n",
       "      <td>Оригинал</td>\n",
       "      <td>передний</td>\n",
       "      <td>Левый</td>\n",
       "      <td>Не требует ремонта</td>\n",
       "      <td>Растаможен</td>\n",
       "    </tr>\n",
       "    <tr>\n",
       "      <th>4</th>\n",
       "      <td>лифтбек</td>\n",
       "      <td>SKODA</td>\n",
       "      <td>https://auto.ru/cars/used/sale/skoda/octavia/1...</td>\n",
       "      <td>белый</td>\n",
       "      <td>NaN</td>\n",
       "      <td>ЛОТ: 01220889\\nАвтопрага Север\\n\\nВы можете по...</td>\n",
       "      <td>1.8 LTR</td>\n",
       "      <td>152 N12</td>\n",
       "      <td>{\"cruise-control\":true,\"asr\":true,\"esp\":true,\"...</td>\n",
       "      <td>бензин</td>\n",
       "      <td>https://autoru.naydex.net/o9DBXQ270/5ac010hAY0...</td>\n",
       "      <td>58536</td>\n",
       "      <td>2008</td>\n",
       "      <td>{\"code\":\"OCTAVIA\",\"name\":\"Octavia\",\"ru_name\":\"...</td>\n",
       "      <td>OCTAVIA</td>\n",
       "      <td>1.8 AT (152 л.с.)</td>\n",
       "      <td>5</td>\n",
       "      <td>1603226288</td>\n",
       "      <td>RUB</td>\n",
       "      <td>2012</td>\n",
       "      <td>1101037972</td>\n",
       "      <td>{\"id\":\"4561004\",\"displacement\":1798,\"engine_ty...</td>\n",
       "      <td>LIFTBACK AUTOMATIC 1.8</td>\n",
       "      <td>автоматическая</td>\n",
       "      <td>EUROPEAN</td>\n",
       "      <td>1 владелец</td>\n",
       "      <td>NaN</td>\n",
       "      <td>Оригинал</td>\n",
       "      <td>передний</td>\n",
       "      <td>Левый</td>\n",
       "      <td>Не требует ремонта</td>\n",
       "      <td>Растаможен</td>\n",
       "    </tr>\n",
       "  </tbody>\n",
       "</table>\n",
       "</div>"
      ],
      "text/plain": [
       "  bodyType  brand                                            car_url  \\\n",
       "0  лифтбек  SKODA  https://auto.ru/cars/used/sale/skoda/octavia/1...   \n",
       "1  лифтбек  SKODA  https://auto.ru/cars/used/sale/skoda/octavia/1...   \n",
       "2  лифтбек  SKODA  https://auto.ru/cars/used/sale/skoda/superb/11...   \n",
       "3  лифтбек  SKODA  https://auto.ru/cars/used/sale/skoda/octavia/1...   \n",
       "4  лифтбек  SKODA  https://auto.ru/cars/used/sale/skoda/octavia/1...   \n",
       "\n",
       "        color                                 complectation_dict  \\\n",
       "0       синий                                                NaN   \n",
       "1      чёрный                                                NaN   \n",
       "2       серый  {\"id\":\"20026336\",\"name\":\"Ambition\",\"available_...   \n",
       "3  коричневый  {\"id\":\"20803582\",\"name\":\"Ambition\",\"available_...   \n",
       "4       белый                                                NaN   \n",
       "\n",
       "                                         description engineDisplacement  \\\n",
       "0  Все автомобили, представленные в продаже, прох...            1.2 LTR   \n",
       "1  ЛОТ: 01217195\\nАвтопрага Север\\nДанный автомоб...            1.6 LTR   \n",
       "2  Все автомобили, представленные в продаже, прох...            1.8 LTR   \n",
       "3  КОМПЛЕКТ ЗИМНЕЙ (ЛЕТНЕЙ) РЕЗИНЫ ПО СЕЗОНУ В ПО...            1.6 LTR   \n",
       "4  ЛОТ: 01220889\\nАвтопрага Север\\n\\nВы можете по...            1.8 LTR   \n",
       "\n",
       "  enginePower                                     equipment_dict fuelType  \\\n",
       "0     105 N12  {\"engine-proof\":true,\"tinted-glass\":true,\"airb...   бензин   \n",
       "1     110 N12  {\"cruise-control\":true,\"asr\":true,\"esp\":true,\"...   бензин   \n",
       "2     152 N12  {\"cruise-control\":true,\"tinted-glass\":true,\"es...   бензин   \n",
       "3     110 N12  {\"cruise-control\":true,\"roller-blind-for-rear-...   бензин   \n",
       "4     152 N12  {\"cruise-control\":true,\"asr\":true,\"esp\":true,\"...   бензин   \n",
       "\n",
       "                                               image  mileage  modelDate  \\\n",
       "0  https://autoru.naydex.net/o9DBXQ270/5ac010hAY0...    74000       2013   \n",
       "1  https://autoru.naydex.net/o9DBXQ270/5ac010hAY0...    60563       2017   \n",
       "2  https://avatars.mds.yandex.net/get-autoru-vos/...    88000       2013   \n",
       "3  https://autoru.naydex.net/o9DBXQ270/5ac010hAY0...    95000       2013   \n",
       "4  https://autoru.naydex.net/o9DBXQ270/5ac010hAY0...    58536       2008   \n",
       "\n",
       "                                          model_info model_name  \\\n",
       "0  {\"code\":\"OCTAVIA\",\"name\":\"Octavia\",\"ru_name\":\"...    OCTAVIA   \n",
       "1  {\"code\":\"OCTAVIA\",\"name\":\"Octavia\",\"ru_name\":\"...    OCTAVIA   \n",
       "2  {\"code\":\"SUPERB\",\"name\":\"Superb\",\"ru_name\":\"Су...     SUPERB   \n",
       "3  {\"code\":\"OCTAVIA\",\"name\":\"Octavia\",\"ru_name\":\"...    OCTAVIA   \n",
       "4  {\"code\":\"OCTAVIA\",\"name\":\"Octavia\",\"ru_name\":\"...    OCTAVIA   \n",
       "\n",
       "                     name  numberOfDoors  parsing_unixtime priceCurrency  \\\n",
       "0      1.2 AMT (105 л.с.)              5        1603226273           RUB   \n",
       "1       1.6 MT (110 л.с.)              5        1603226277           RUB   \n",
       "2  DSG 1.8 AMT (152 л.с.)              5        1603226280           RUB   \n",
       "3       1.6 AT (110 л.с.)              5        1603226284           RUB   \n",
       "4       1.8 AT (152 л.с.)              5        1603226288           RUB   \n",
       "\n",
       "   productionDate     sell_id  \\\n",
       "0            2014  1100575026   \n",
       "1            2017  1100549428   \n",
       "2            2014  1100658222   \n",
       "3            2014  1100937408   \n",
       "4            2012  1101037972   \n",
       "\n",
       "                                           super_gen     vehicleConfiguration  \\\n",
       "0  {\"id\":\"10373605\",\"displacement\":1197,\"engine_t...       LIFTBACK ROBOT 1.2   \n",
       "1  {\"id\":\"20913311\",\"displacement\":1598,\"engine_t...  LIFTBACK MECHANICAL 1.6   \n",
       "2  {\"id\":\"20026323\",\"nameplate\":\"DSG\",\"displaceme...       LIFTBACK ROBOT 1.8   \n",
       "3  {\"id\":\"20105521\",\"displacement\":1598,\"engine_t...   LIFTBACK AUTOMATIC 1.6   \n",
       "4  {\"id\":\"4561004\",\"displacement\":1798,\"engine_ty...   LIFTBACK AUTOMATIC 1.8   \n",
       "\n",
       "  vehicleTransmission    vendor    Владельцы Владение       ПТС    Привод  \\\n",
       "0    роботизированная  EUROPEAN  3 или более      NaN  Оригинал  передний   \n",
       "1        механическая  EUROPEAN   1 владелец      NaN  Оригинал  передний   \n",
       "2    роботизированная  EUROPEAN   1 владелец      NaN  Оригинал  передний   \n",
       "3      автоматическая  EUROPEAN   1 владелец      NaN  Оригинал  передний   \n",
       "4      автоматическая  EUROPEAN   1 владелец      NaN  Оригинал  передний   \n",
       "\n",
       "    Руль           Состояние     Таможня  \n",
       "0  Левый  Не требует ремонта  Растаможен  \n",
       "1  Левый  Не требует ремонта  Растаможен  \n",
       "2  Левый  Не требует ремонта  Растаможен  \n",
       "3  Левый  Не требует ремонта  Растаможен  \n",
       "4  Левый  Не требует ремонта  Растаможен  "
      ]
     },
     "metadata": {},
     "output_type": "display_data"
    }
   ],
   "source": [
    "train = pd.read_csv(DIR_TRAIN+'all_auto_ru_09_09_2020.csv') # датасет для обучения модели\n",
    "test = pd.read_csv(DIR_TEST+'test.csv')\n",
    "sample_submission = pd.read_csv(DIR_TEST+'sample_submission.csv')\n",
    "\n",
    "pd.set_option('display.max_columns', None)\n",
    "display(train.head(5))\n",
    "display(test.head(5))"
   ]
  },
  {
   "cell_type": "code",
   "execution_count": 8,
   "metadata": {
    "execution": {
     "iopub.execute_input": "2020-10-26T12:47:02.317036Z",
     "iopub.status.busy": "2020-10-26T12:47:02.316251Z",
     "iopub.status.idle": "2020-10-26T12:47:02.50135Z",
     "shell.execute_reply": "2020-10-26T12:47:02.501985Z"
    },
    "papermill": {
     "duration": 0.22352,
     "end_time": "2020-10-26T12:47:02.502166",
     "exception": false,
     "start_time": "2020-10-26T12:47:02.278646",
     "status": "completed"
    },
    "tags": []
   },
   "outputs": [
    {
     "name": "stdout",
     "output_type": "stream",
     "text": [
      "<class 'pandas.core.frame.DataFrame'>\n",
      "RangeIndex: 89378 entries, 0 to 89377\n",
      "Data columns (total 26 columns):\n",
      " #   Column                Non-Null Count  Dtype  \n",
      "---  ------                --------------  -----  \n",
      " 0   bodyType              89377 non-null  object \n",
      " 1   brand                 89378 non-null  object \n",
      " 2   color                 89378 non-null  object \n",
      " 3   fuelType              89378 non-null  object \n",
      " 4   modelDate             89377 non-null  float64\n",
      " 5   name                  89377 non-null  object \n",
      " 6   numberOfDoors         89377 non-null  float64\n",
      " 7   productionDate        89378 non-null  int64  \n",
      " 8   vehicleConfiguration  89377 non-null  object \n",
      " 9   vehicleTransmission   89377 non-null  object \n",
      " 10  engineDisplacement    89377 non-null  object \n",
      " 11  enginePower           89377 non-null  float64\n",
      " 12  description           86124 non-null  object \n",
      " 13  mileage               89378 non-null  int64  \n",
      " 14  Комплектация          89378 non-null  object \n",
      " 15  Привод                89377 non-null  object \n",
      " 16  Руль                  89378 non-null  object \n",
      " 17  Состояние             0 non-null      float64\n",
      " 18  Владельцы             75790 non-null  float64\n",
      " 19  ПТС                   89017 non-null  object \n",
      " 20  Таможня               89378 non-null  bool   \n",
      " 21  Владение              29201 non-null  object \n",
      " 22  price                 88968 non-null  float64\n",
      " 23  start_date            89378 non-null  object \n",
      " 24  hidden                0 non-null      float64\n",
      " 25  model                 89378 non-null  object \n",
      "dtypes: bool(1), float64(7), int64(2), object(16)\n",
      "memory usage: 17.1+ MB\n"
     ]
    }
   ],
   "source": [
    "train.info()"
   ]
  },
  {
   "cell_type": "code",
   "execution_count": 9,
   "metadata": {},
   "outputs": [
    {
     "name": "stdout",
     "output_type": "stream",
     "text": [
      "<class 'pandas.core.frame.DataFrame'>\n",
      "RangeIndex: 34686 entries, 0 to 34685\n",
      "Data columns (total 32 columns):\n",
      " #   Column                Non-Null Count  Dtype \n",
      "---  ------                --------------  ----- \n",
      " 0   bodyType              34686 non-null  object\n",
      " 1   brand                 34686 non-null  object\n",
      " 2   car_url               34686 non-null  object\n",
      " 3   color                 34686 non-null  object\n",
      " 4   complectation_dict    6418 non-null   object\n",
      " 5   description           34686 non-null  object\n",
      " 6   engineDisplacement    34686 non-null  object\n",
      " 7   enginePower           34686 non-null  object\n",
      " 8   equipment_dict        24690 non-null  object\n",
      " 9   fuelType              34686 non-null  object\n",
      " 10  image                 34686 non-null  object\n",
      " 11  mileage               34686 non-null  int64 \n",
      " 12  modelDate             34686 non-null  int64 \n",
      " 13  model_info            34686 non-null  object\n",
      " 14  model_name            34686 non-null  object\n",
      " 15  name                  34686 non-null  object\n",
      " 16  numberOfDoors         34686 non-null  int64 \n",
      " 17  parsing_unixtime      34686 non-null  int64 \n",
      " 18  priceCurrency         34686 non-null  object\n",
      " 19  productionDate        34686 non-null  int64 \n",
      " 20  sell_id               34686 non-null  int64 \n",
      " 21  super_gen             34686 non-null  object\n",
      " 22  vehicleConfiguration  34686 non-null  object\n",
      " 23  vehicleTransmission   34686 non-null  object\n",
      " 24  vendor                34686 non-null  object\n",
      " 25  Владельцы             34686 non-null  object\n",
      " 26  Владение              11995 non-null  object\n",
      " 27  ПТС                   34685 non-null  object\n",
      " 28  Привод                34686 non-null  object\n",
      " 29  Руль                  34686 non-null  object\n",
      " 30  Состояние             34686 non-null  object\n",
      " 31  Таможня               34686 non-null  object\n",
      "dtypes: int64(6), object(26)\n",
      "memory usage: 8.5+ MB\n"
     ]
    }
   ],
   "source": [
    "test.info()"
   ]
  },
  {
   "cell_type": "markdown",
   "metadata": {
    "papermill": {
     "duration": 0.033402,
     "end_time": "2020-10-26T12:47:02.866506",
     "exception": false,
     "start_time": "2020-10-26T12:47:02.833104",
     "status": "completed"
    },
    "tags": []
   },
   "source": [
    "## Data Preprocessing"
   ]
  },
  {
   "cell_type": "code",
   "execution_count": 9,
   "metadata": {
    "execution": {
     "iopub.execute_input": "2020-10-26T12:47:02.941177Z",
     "iopub.status.busy": "2020-10-26T12:47:02.94004Z",
     "iopub.status.idle": "2020-10-26T12:47:02.94372Z",
     "shell.execute_reply": "2020-10-26T12:47:02.943059Z"
    },
    "papermill": {
     "duration": 0.042812,
     "end_time": "2020-10-26T12:47:02.943868",
     "exception": false,
     "start_time": "2020-10-26T12:47:02.901056",
     "status": "completed"
    },
    "tags": []
   },
   "outputs": [],
   "source": [
    "train.rename(columns = {'model':'model_name'}, inplace = True)"
   ]
  },
  {
   "cell_type": "code",
   "execution_count": 10,
   "metadata": {},
   "outputs": [],
   "source": [
    "train.dropna(subset=['productionDate','mileage','model_name'], inplace=True)\n",
    "train.dropna(subset=['price'], inplace=True)"
   ]
  },
  {
   "cell_type": "code",
   "execution_count": 11,
   "metadata": {
    "execution": {
     "iopub.execute_input": "2020-10-26T12:47:03.218827Z",
     "iopub.status.busy": "2020-10-26T12:47:03.21765Z",
     "iopub.status.idle": "2020-10-26T12:47:03.222821Z",
     "shell.execute_reply": "2020-10-26T12:47:03.223415Z"
    },
    "papermill": {
     "duration": 0.054414,
     "end_time": "2020-10-26T12:47:03.223614",
     "exception": false,
     "start_time": "2020-10-26T12:47:03.1692",
     "status": "completed"
    },
    "tags": []
   },
   "outputs": [],
   "source": [
    "# для baseline просто возьму пару схожих признаков без полной обработки\n",
    "columns = ['bodyType', 'brand', 'productionDate', 'engineDisplacement','fuelType','mileage','model_name']\n",
    "\n",
    "df_train = train[columns]\n",
    "df_test = test[columns]"
   ]
  },
  {
   "cell_type": "code",
   "execution_count": 12,
   "metadata": {},
   "outputs": [],
   "source": [
    "y = train['price']"
   ]
  },
  {
   "cell_type": "markdown",
   "metadata": {
    "papermill": {
     "duration": 0.033657,
     "end_time": "2020-10-26T12:47:03.29162",
     "exception": false,
     "start_time": "2020-10-26T12:47:03.257963",
     "status": "completed"
    },
    "tags": []
   },
   "source": [
    "## Label Encoding"
   ]
  },
  {
   "cell_type": "code",
   "execution_count": 13,
   "metadata": {
    "execution": {
     "iopub.execute_input": "2020-10-26T12:47:03.371409Z",
     "iopub.status.busy": "2020-10-26T12:47:03.370451Z",
     "iopub.status.idle": "2020-10-26T12:47:03.40603Z",
     "shell.execute_reply": "2020-10-26T12:47:03.405053Z"
    },
    "papermill": {
     "duration": 0.080223,
     "end_time": "2020-10-26T12:47:03.406196",
     "exception": false,
     "start_time": "2020-10-26T12:47:03.325973",
     "status": "completed"
    },
    "tags": []
   },
   "outputs": [
    {
     "name": "stderr",
     "output_type": "stream",
     "text": [
      "<ipython-input-13-48ac77de6ba5>:2: SettingWithCopyWarning: \n",
      "A value is trying to be set on a copy of a slice from a DataFrame.\n",
      "Try using .loc[row_indexer,col_indexer] = value instead\n",
      "\n",
      "See the caveats in the documentation: https://pandas.pydata.org/pandas-docs/stable/user_guide/indexing.html#returning-a-view-versus-a-copy\n",
      "  df_train['sample'] = 1 # помечаем где у нас трейн\n",
      "<ipython-input-13-48ac77de6ba5>:3: SettingWithCopyWarning: \n",
      "A value is trying to be set on a copy of a slice from a DataFrame.\n",
      "Try using .loc[row_indexer,col_indexer] = value instead\n",
      "\n",
      "See the caveats in the documentation: https://pandas.pydata.org/pandas-docs/stable/user_guide/indexing.html#returning-a-view-versus-a-copy\n",
      "  df_test['sample'] = 0 # помечаем где у нас тест\n"
     ]
    }
   ],
   "source": [
    "# ВАЖНО! дря корректной обработки признаков объединяем трейн и тест в один датасет\n",
    "df_train['sample'] = 1 # помечаем где у нас трейн\n",
    "df_test['sample'] = 0 # помечаем где у нас тест\n",
    "\n",
    "data = df_test.append(df_train, sort=False).reset_index(drop=True) # объединяем\n"
   ]
  },
  {
   "cell_type": "code",
   "execution_count": 14,
   "metadata": {
    "execution": {
     "iopub.execute_input": "2020-10-26T12:47:03.489637Z",
     "iopub.status.busy": "2020-10-26T12:47:03.483022Z",
     "iopub.status.idle": "2020-10-26T12:47:03.549376Z",
     "shell.execute_reply": "2020-10-26T12:47:03.548539Z"
    },
    "papermill": {
     "duration": 0.10809,
     "end_time": "2020-10-26T12:47:03.549533",
     "exception": false,
     "start_time": "2020-10-26T12:47:03.441443",
     "status": "completed"
    },
    "tags": []
   },
   "outputs": [],
   "source": [
    "for colum in ['bodyType', 'brand', 'engineDisplacement','fuelType','model_name']:\n",
    "    data[colum] = data[colum].astype('category').cat.codes"
   ]
  },
  {
   "cell_type": "code",
   "execution_count": 15,
   "metadata": {
    "execution": {
     "iopub.execute_input": "2020-10-26T12:47:03.6352Z",
     "iopub.status.busy": "2020-10-26T12:47:03.633973Z",
     "iopub.status.idle": "2020-10-26T12:47:03.646722Z",
     "shell.execute_reply": "2020-10-26T12:47:03.645899Z"
    },
    "papermill": {
     "duration": 0.06183,
     "end_time": "2020-10-26T12:47:03.646867",
     "exception": false,
     "start_time": "2020-10-26T12:47:03.585037",
     "status": "completed"
    },
    "tags": []
   },
   "outputs": [
    {
     "name": "stdout",
     "output_type": "stream",
     "text": [
      "<class 'pandas.core.frame.DataFrame'>\n",
      "RangeIndex: 123654 entries, 0 to 123653\n",
      "Data columns (total 8 columns):\n",
      " #   Column              Non-Null Count   Dtype\n",
      "---  ------              --------------   -----\n",
      " 0   bodyType            123654 non-null  int16\n",
      " 1   brand               123654 non-null  int8 \n",
      " 2   productionDate      123654 non-null  int64\n",
      " 3   engineDisplacement  123654 non-null  int16\n",
      " 4   fuelType            123654 non-null  int8 \n",
      " 5   mileage             123654 non-null  int64\n",
      " 6   model_name          123654 non-null  int16\n",
      " 7   sample              123654 non-null  int64\n",
      "dtypes: int16(3), int64(3), int8(2)\n",
      "memory usage: 3.8 MB\n"
     ]
    }
   ],
   "source": [
    "\n",
    "data.info()"
   ]
  },
  {
   "cell_type": "code",
   "execution_count": 16,
   "metadata": {
    "execution": {
     "iopub.execute_input": "2020-10-26T12:47:03.727044Z",
     "iopub.status.busy": "2020-10-26T12:47:03.725742Z",
     "iopub.status.idle": "2020-10-26T12:47:03.753844Z",
     "shell.execute_reply": "2020-10-26T12:47:03.753001Z"
    },
    "papermill": {
     "duration": 0.071275,
     "end_time": "2020-10-26T12:47:03.754",
     "exception": false,
     "start_time": "2020-10-26T12:47:03.682725",
     "status": "completed"
    },
    "tags": []
   },
   "outputs": [],
   "source": [
    "X = data.query('sample == 1').drop(['sample'], axis=1)\n",
    "X_sub = data.query('sample == 0').drop(['sample'], axis=1)"
   ]
  },
  {
   "cell_type": "markdown",
   "metadata": {
    "papermill": {
     "duration": 0.035737,
     "end_time": "2020-10-26T12:47:03.826552",
     "exception": false,
     "start_time": "2020-10-26T12:47:03.790815",
     "status": "completed"
    },
    "tags": []
   },
   "source": [
    "## Train Split"
   ]
  },
  {
   "cell_type": "code",
   "execution_count": 17,
   "metadata": {
    "execution": {
     "iopub.execute_input": "2020-10-26T12:47:03.90948Z",
     "iopub.status.busy": "2020-10-26T12:47:03.908518Z",
     "iopub.status.idle": "2020-10-26T12:47:03.923409Z",
     "shell.execute_reply": "2020-10-26T12:47:03.922602Z"
    },
    "papermill": {
     "duration": 0.059208,
     "end_time": "2020-10-26T12:47:03.923564",
     "exception": false,
     "start_time": "2020-10-26T12:47:03.864356",
     "status": "completed"
    },
    "tags": []
   },
   "outputs": [],
   "source": [
    "X_train, X_test, y_train, y_test = train_test_split(X, y, test_size=VAL_SIZE, shuffle=True, random_state=RANDOM_SEED)"
   ]
  },
  {
   "cell_type": "markdown",
   "metadata": {},
   "source": [
    "# Model 1: Создадим \"наивную\" модель \n",
    "Эта модель будет предсказывать среднюю цену по модели двигателя (engineDisplacement). \n",
    "C ней будем сравнивать другие модели.\n",
    "\n",
    "\n"
   ]
  },
  {
   "cell_type": "code",
   "execution_count": 18,
   "metadata": {},
   "outputs": [],
   "source": [
    "tmp_train = X_train.copy()\n",
    "tmp_train['price'] = y_train"
   ]
  },
  {
   "cell_type": "code",
   "execution_count": 19,
   "metadata": {},
   "outputs": [
    {
     "name": "stdout",
     "output_type": "stream",
     "text": [
      "Точность наивной модели по метрике MAPE: 117.95%\n"
     ]
    }
   ],
   "source": [
    "# Находим median по экземплярам engineDisplacement в трейне и размечаем тест\n",
    "predict = X_test['engineDisplacement'].map(tmp_train.groupby('engineDisplacement')['price'].median())\n",
    "\n",
    "#оцениваем точность\n",
    "print(f\"Точность наивной модели по метрике MAPE: {(mape(y_test, predict.values))*100:0.2f}%\")"
   ]
  },
  {
   "cell_type": "markdown",
   "metadata": {
    "papermill": {
     "duration": 0.037164,
     "end_time": "2020-10-26T12:47:03.997616",
     "exception": false,
     "start_time": "2020-10-26T12:47:03.960452",
     "status": "completed"
    },
    "tags": []
   },
   "source": [
    "## Model 2 : CatBoost"
   ]
  },
  {
   "cell_type": "markdown",
   "metadata": {
    "papermill": {
     "duration": 0.035833,
     "end_time": "2020-10-26T12:47:04.149539",
     "exception": false,
     "start_time": "2020-10-26T12:47:04.113706",
     "status": "completed"
    },
    "tags": []
   },
   "source": [
    "## Fit"
   ]
  },
  {
   "cell_type": "code",
   "execution_count": 20,
   "metadata": {
    "execution": {
     "iopub.execute_input": "2020-10-26T12:47:04.256865Z",
     "iopub.status.busy": "2020-10-26T12:47:04.248328Z",
     "iopub.status.idle": "2020-10-26T12:48:12.17834Z",
     "shell.execute_reply": "2020-10-26T12:48:12.17762Z"
    },
    "papermill": {
     "duration": 67.991521,
     "end_time": "2020-10-26T12:48:12.178488",
     "exception": false,
     "start_time": "2020-10-26T12:47:04.186967",
     "status": "completed"
    },
    "tags": []
   },
   "outputs": [],
   "source": [
    "model = CatBoostRegressor(iterations = 5000,\n",
    "                          random_seed = RANDOM_SEED,\n",
    "                          eval_metric='MAPE',\n",
    "                          custom_metric=['R2', 'MAE'],\n",
    "                          silent=True,\n",
    "                         )\n",
    "model.fit(X_train, y_train,\n",
    "         #cat_features=cat_features_ids,\n",
    "         eval_set=(X_test, y_test),\n",
    "         verbose_eval=0,\n",
    "         use_best_model=True,\n",
    "         #plot=True\n",
    "         )\n",
    "\n",
    "model.save_model('catboost_single_model_baseline.model')"
   ]
  },
  {
   "cell_type": "code",
   "execution_count": 21,
   "metadata": {},
   "outputs": [
    {
     "name": "stdout",
     "output_type": "stream",
     "text": [
      "Точность модели по метрике MAPE: 17.03%\n"
     ]
    }
   ],
   "source": [
    "# оцениваем точность\n",
    "predict = model.predict(X_test)\n",
    "print(f\"Точность модели по метрике MAPE: {(mape(y_test, predict))*100:0.2f}%\")"
   ]
  },
  {
   "cell_type": "markdown",
   "metadata": {},
   "source": [
    "### Log Traget\n",
    "Попробуем взять таргет в логорифм - это позволит уменьшить влияние выбросов на обучение модели (используем для этого np.log и np.exp).    \n",
    "В принциепе мы можем использовать любое приобразование на целевую переменную. Например деление на курс доллара, евро или гречки :) в дату сбора данных, смотрим дату парсинга в тесте в **parsing_unixtime**"
   ]
  },
  {
   "cell_type": "code",
   "execution_count": 22,
   "metadata": {},
   "outputs": [
    {
     "data": {
      "text/plain": [
       "53199    13.060488\n",
       "75086    14.762874\n",
       "43113    12.762827\n",
       "69668    12.785491\n",
       "70499    11.918391\n",
       "           ...    \n",
       "6291     14.508657\n",
       "55136    12.468437\n",
       "77178    13.217674\n",
       "865      12.641097\n",
       "15861    14.403297\n",
       "Name: price, Length: 71174, dtype: float64"
      ]
     },
     "execution_count": 22,
     "metadata": {},
     "output_type": "execute_result"
    }
   ],
   "source": [
    "np.log(y_train)"
   ]
  },
  {
   "cell_type": "code",
   "execution_count": 23,
   "metadata": {},
   "outputs": [],
   "source": [
    "model = CatBoostRegressor(iterations = 5000,\n",
    "                          random_seed = RANDOM_SEED,\n",
    "                          eval_metric='MAPE',\n",
    "                          custom_metric=['R2', 'MAE'],\n",
    "                          silent=True,\n",
    "                         )\n",
    "model.fit(X_train, np.log(y_train),\n",
    "         #cat_features=cat_features_ids,\n",
    "         eval_set=(X_test, np.log(y_test)),\n",
    "         verbose_eval=0,\n",
    "         use_best_model=True,\n",
    "         #plot=True\n",
    "         )\n",
    "\n",
    "model.save_model('catboost_single_model_2_baseline.model')"
   ]
  },
  {
   "cell_type": "code",
   "execution_count": 24,
   "metadata": {},
   "outputs": [],
   "source": [
    "predict_test = np.exp(model.predict(X_test))\n",
    "predict_submission = np.exp(model.predict(X_sub))"
   ]
  },
  {
   "cell_type": "code",
   "execution_count": 25,
   "metadata": {},
   "outputs": [
    {
     "name": "stdout",
     "output_type": "stream",
     "text": [
      "Точность модели по метрике MAPE: 13.53%\n"
     ]
    }
   ],
   "source": [
    "print(f\"Точность модели по метрике MAPE: {(mape(y_test, predict_test))*100:0.2f}%\")"
   ]
  },
  {
   "cell_type": "code",
   "execution_count": 154,
   "metadata": {},
   "outputs": [
    {
     "name": "stdout",
     "output_type": "stream",
     "text": [
      "Fitting 3 folds for each of 100 candidates, totalling 300 fits\n"
     ]
    },
    {
     "name": "stderr",
     "output_type": "stream",
     "text": [
      "[Parallel(n_jobs=-1)]: Using backend LokyBackend with 4 concurrent workers.\n",
      "[Parallel(n_jobs=-1)]: Done   5 tasks      | elapsed:  2.1min\n",
      "[Parallel(n_jobs=-1)]: Done  10 tasks      | elapsed:  2.9min\n",
      "[Parallel(n_jobs=-1)]: Done  17 tasks      | elapsed:  4.3min\n",
      "[Parallel(n_jobs=-1)]: Done  24 tasks      | elapsed:  5.0min\n",
      "[Parallel(n_jobs=-1)]: Done  33 tasks      | elapsed:  5.8min\n",
      "[Parallel(n_jobs=-1)]: Done  42 tasks      | elapsed:  7.3min\n",
      "[Parallel(n_jobs=-1)]: Done  53 tasks      | elapsed:  9.1min\n",
      "[Parallel(n_jobs=-1)]: Done  64 tasks      | elapsed: 11.7min\n",
      "[Parallel(n_jobs=-1)]: Done  77 tasks      | elapsed: 12.9min\n",
      "[Parallel(n_jobs=-1)]: Done  90 tasks      | elapsed: 14.5min\n",
      "[Parallel(n_jobs=-1)]: Done 105 tasks      | elapsed: 15.8min\n",
      "[Parallel(n_jobs=-1)]: Done 120 tasks      | elapsed: 18.3min\n",
      "[Parallel(n_jobs=-1)]: Done 137 tasks      | elapsed: 21.8min\n",
      "[Parallel(n_jobs=-1)]: Done 154 tasks      | elapsed: 24.0min\n",
      "[Parallel(n_jobs=-1)]: Done 173 tasks      | elapsed: 25.7min\n",
      "[Parallel(n_jobs=-1)]: Done 192 tasks      | elapsed: 29.0min\n",
      "[Parallel(n_jobs=-1)]: Done 213 tasks      | elapsed: 32.2min\n",
      "[Parallel(n_jobs=-1)]: Done 234 tasks      | elapsed: 35.3min\n",
      "[Parallel(n_jobs=-1)]: Done 257 tasks      | elapsed: 36.6min\n",
      "[Parallel(n_jobs=-1)]: Done 280 tasks      | elapsed: 40.6min\n",
      "[Parallel(n_jobs=-1)]: Done 300 out of 300 | elapsed: 41.7min finished\n"
     ]
    },
    {
     "data": {
      "text/plain": [
       "{'n_estimators': 300,\n",
       " 'min_samples_split': 10,\n",
       " 'min_samples_leaf': 1,\n",
       " 'max_features': 'sqrt',\n",
       " 'max_depth': None,\n",
       " 'bootstrap': False}"
      ]
     },
     "execution_count": 154,
     "metadata": {},
     "output_type": "execute_result"
    }
   ],
   "source": [
    "random_grid = {'n_estimators': [int(x) for x in np.linspace(start = 100, stop = 400, num = 4)],\n",
    "               'max_features': ['auto', 'sqrt'],\n",
    "               'max_depth': [int(x) for x in np.linspace(5, 15, num = 6)] + [None],\n",
    "               'min_samples_split': [2, 5, 10],\n",
    "               'min_samples_leaf': [1, 2, 4],\n",
    "               'bootstrap': [True, False]}\n",
    "rfr = RandomForestRegressor(random_state = RANDOM_SEED)\n",
    "rf_random = RandomizedSearchCV(estimator = rfr, param_distributions = random_grid, n_iter = 100, cv = 3, verbose=10, random_state=RANDOM_SEED, n_jobs = -1)\n",
    "rf_random.fit(X_train, np.log(y_train))\n",
    "rf_random.best_params_"
   ]
  },
  {
   "cell_type": "code",
   "execution_count": 26,
   "metadata": {},
   "outputs": [
    {
     "data": {
      "text/plain": [
       "RandomForestRegressor(bootstrap=False, max_features='sqrt',\n",
       "                      min_samples_split=10, n_estimators=300, random_state=42)"
      ]
     },
     "execution_count": 26,
     "metadata": {},
     "output_type": "execute_result"
    }
   ],
   "source": [
    "best_rfr = RandomForestRegressor(random_state=RANDOM_SEED\n",
    "                      , n_estimators=300\n",
    "                      , min_samples_split=10\n",
    "                      , min_samples_leaf=1\n",
    "                      , max_features='sqrt'\n",
    "                      , max_depth=None\n",
    "                      , bootstrap=False)\n",
    "\n",
    "best_rfr.fit(X_train, np.log(y_train))"
   ]
  },
  {
   "cell_type": "code",
   "execution_count": 27,
   "metadata": {},
   "outputs": [],
   "source": [
    "predict_rfr = np.exp(best_rfr.predict(X_test))\n",
    "predict_submission = np.exp(best_rfr.predict(X_sub))"
   ]
  },
  {
   "cell_type": "code",
   "execution_count": 28,
   "metadata": {},
   "outputs": [
    {
     "name": "stdout",
     "output_type": "stream",
     "text": [
      "Точность модели по метрике MAPE: 13.81%\n"
     ]
    }
   ],
   "source": [
    "print(f\"Точность модели по метрике MAPE: {(mape(y_test, predict_rfr))*100:0.2f}%\")"
   ]
  },
  {
   "cell_type": "markdown",
   "metadata": {},
   "source": [
    "# Используем стекинг"
   ]
  },
  {
   "cell_type": "code",
   "execution_count": 30,
   "metadata": {},
   "outputs": [],
   "source": [
    "import pandas as pd\n",
    "import numpy as np\n",
    "from sklearn.model_selection import train_test_split, KFold\n",
    "from sklearn.linear_model import LogisticRegression, LinearRegression\n",
    "from sklearn.ensemble import RandomForestClassifier, GradientBoostingClassifier\n",
    "from sklearn.base import clone\n",
    "\n",
    "from sklearn.preprocessing import StandardScaler\n",
    "from sklearn.metrics import accuracy_score\n",
    "from tqdm import tqdm"
   ]
  },
  {
   "cell_type": "code",
   "execution_count": 31,
   "metadata": {},
   "outputs": [],
   "source": [
    "def compute_meta_feature(clf, X_train, X_test, y_train, cv):\n",
    "    \"\"\"\n",
    "    Computes meta-features using the classifier.\n",
    "    \n",
    "    :arg clf: scikit-learn classifier\n",
    "    :args X_train, y_train: training set\n",
    "    :arg X_test: testing set\n",
    "    :arg cv: cross-validation folding\n",
    "    \"\"\"\n",
    "    X_meta_train = np.zeros_like(y_train, dtype=np.float32)\n",
    "    for train_fold_index, predict_fold_index in cv.split(X_train):\n",
    "        X_fold_train, X_fold_predict = X_train[train_fold_index], X_train[predict_fold_index]\n",
    "        y_fold_train = y_train[train_fold_index]\n",
    "        \n",
    "        folded_clf = clone(clf)\n",
    "        folded_clf.fit(X_fold_train, y_fold_train)\n",
    "        X_meta_train[predict_fold_index] = folded_clf.predict_proba(X_fold_predict)[:, 1]\n",
    "    \n",
    "    meta_clf = clone(clf)\n",
    "    meta_clf.fit(X_train, y_train)\n",
    "    \n",
    "    X_meta_test = meta_clf.predict_proba(X_test)[:, 1]\n",
    "    \n",
    "    return X_meta_train, X_meta_test"
   ]
  },
  {
   "cell_type": "code",
   "execution_count": 32,
   "metadata": {},
   "outputs": [],
   "source": [
    "def generate_metafeatures(classifiers, X_train, X_test, y_train, cv):\n",
    "    \"\"\"\n",
    "    Generates metafeatures using a list of classifiers.\n",
    "    \n",
    "    :arg classifiers: list of scikit-learn classifiers\n",
    "    :args X_train, y_train: training set\n",
    "    :arg X_test: testing set\n",
    "    :arg cv: cross-validation folding\n",
    "    \"\"\"\n",
    "    features = [\n",
    "        compute_meta_feature(clf, X_train, X_test, y_train, cv)\n",
    "        for clf in tqdm(classifiers)\n",
    "    ]\n",
    "    \n",
    "    stacked_features_train = np.vstack([\n",
    "        features_train for features_train, features_test in features\n",
    "    ]).T\n",
    "\n",
    "    stacked_features_test = np.vstack([\n",
    "        features_test for features_train, features_test in features\n",
    "    ]).T\n",
    "    \n",
    "    return stacked_features_train, stacked_features_test"
   ]
  },
  {
   "cell_type": "code",
   "execution_count": 36,
   "metadata": {},
   "outputs": [
    {
     "name": "stdout",
     "output_type": "stream",
     "text": [
      "Collecting mlxtend\n",
      "  Downloading mlxtend-0.18.0-py2.py3-none-any.whl (1.3 MB)\n",
      "\u001b[K     |████████████████████████████████| 1.3 MB 759 kB/s eta 0:00:01\n",
      "\u001b[?25hRequirement already satisfied: joblib>=0.13.2 in /Users/gaziz/opt/anaconda3/lib/python3.8/site-packages (from mlxtend) (0.16.0)\n",
      "Requirement already satisfied: matplotlib>=3.0.0 in /Users/gaziz/opt/anaconda3/lib/python3.8/site-packages (from mlxtend) (3.2.2)\n",
      "Requirement already satisfied: scipy>=1.2.1 in /Users/gaziz/opt/anaconda3/lib/python3.8/site-packages (from mlxtend) (1.5.0)\n",
      "Requirement already satisfied: scikit-learn>=0.20.3 in /Users/gaziz/opt/anaconda3/lib/python3.8/site-packages (from mlxtend) (0.23.1)\n",
      "Requirement already satisfied: setuptools in /Users/gaziz/opt/anaconda3/lib/python3.8/site-packages (from mlxtend) (49.2.0.post20200714)\n",
      "Requirement already satisfied: numpy>=1.16.2 in /Users/gaziz/opt/anaconda3/lib/python3.8/site-packages (from mlxtend) (1.18.5)\n",
      "Requirement already satisfied: pandas>=0.24.2 in /Users/gaziz/opt/anaconda3/lib/python3.8/site-packages (from mlxtend) (1.0.5)\n",
      "Requirement already satisfied: pyparsing!=2.0.4,!=2.1.2,!=2.1.6,>=2.0.1 in /Users/gaziz/opt/anaconda3/lib/python3.8/site-packages (from matplotlib>=3.0.0->mlxtend) (2.4.7)\n",
      "Requirement already satisfied: python-dateutil>=2.1 in /Users/gaziz/opt/anaconda3/lib/python3.8/site-packages (from matplotlib>=3.0.0->mlxtend) (2.8.1)\n",
      "Requirement already satisfied: cycler>=0.10 in /Users/gaziz/opt/anaconda3/lib/python3.8/site-packages (from matplotlib>=3.0.0->mlxtend) (0.10.0)\n",
      "Requirement already satisfied: kiwisolver>=1.0.1 in /Users/gaziz/opt/anaconda3/lib/python3.8/site-packages (from matplotlib>=3.0.0->mlxtend) (1.2.0)\n",
      "Requirement already satisfied: threadpoolctl>=2.0.0 in /Users/gaziz/opt/anaconda3/lib/python3.8/site-packages (from scikit-learn>=0.20.3->mlxtend) (2.1.0)\n",
      "Requirement already satisfied: pytz>=2017.2 in /Users/gaziz/opt/anaconda3/lib/python3.8/site-packages (from pandas>=0.24.2->mlxtend) (2020.1)\n",
      "Requirement already satisfied: six>=1.5 in /Users/gaziz/opt/anaconda3/lib/python3.8/site-packages (from python-dateutil>=2.1->matplotlib>=3.0.0->mlxtend) (1.15.0)\n",
      "Installing collected packages: mlxtend\n",
      "Successfully installed mlxtend-0.18.0\n",
      "Note: you may need to restart the kernel to use updated packages.\n"
     ]
    }
   ],
   "source": [
    "pip install mlxtend"
   ]
  },
  {
   "cell_type": "code",
   "execution_count": 33,
   "metadata": {},
   "outputs": [],
   "source": [
    "from sklearn.linear_model import Ridge\n",
    "from sklearn.linear_model import LinearRegression\n",
    "from mlxtend.regressor import StackingRegressor\n",
    "from sklearn.ensemble import RandomForestRegressor\n",
    "from sklearn.ensemble import GradientBoostingRegressor"
   ]
  },
  {
   "cell_type": "code",
   "execution_count": 34,
   "metadata": {},
   "outputs": [],
   "source": [
    "# Initialize models\n",
    "lr = LinearRegression(\n",
    "    n_jobs = -1\n",
    ")\n",
    "\n",
    "rd = Ridge(\n",
    "    alpha = 4.84\n",
    ")\n",
    "\n",
    "rf = RandomForestRegressor(\n",
    "    n_estimators = 12,\n",
    "    max_depth = 3,\n",
    "    n_jobs = -1\n",
    ")\n",
    "\n",
    "gb = GradientBoostingRegressor(\n",
    "    n_estimators = 40,\n",
    "    max_depth = 2\n",
    ")"
   ]
  },
  {
   "cell_type": "code",
   "execution_count": 35,
   "metadata": {},
   "outputs": [],
   "source": [
    "model = StackingRegressor(\n",
    "    regressors=[rf, gb, rd],\n",
    "    meta_regressor=lr\n",
    ")"
   ]
  },
  {
   "cell_type": "code",
   "execution_count": 36,
   "metadata": {},
   "outputs": [
    {
     "data": {
      "text/plain": [
       "StackingRegressor(meta_regressor=LinearRegression(n_jobs=-1),\n",
       "                  regressors=[RandomForestRegressor(max_depth=3,\n",
       "                                                    n_estimators=12,\n",
       "                                                    n_jobs=-1),\n",
       "                              GradientBoostingRegressor(max_depth=2,\n",
       "                                                        n_estimators=40),\n",
       "                              Ridge(alpha=4.84)])"
      ]
     },
     "execution_count": 36,
     "metadata": {},
     "output_type": "execute_result"
    }
   ],
   "source": [
    "model.fit(X_train, y_train)"
   ]
  },
  {
   "cell_type": "code",
   "execution_count": 37,
   "metadata": {},
   "outputs": [],
   "source": [
    "y_pred = model.predict(X_test)"
   ]
  },
  {
   "cell_type": "code",
   "execution_count": 38,
   "metadata": {},
   "outputs": [
    {
     "name": "stdout",
     "output_type": "stream",
     "text": [
      "Точность модели по метрике MAPE: 55.07%\n"
     ]
    }
   ],
   "source": [
    "print(f\"Точность модели по метрике MAPE: {(mape(y_test, y_pred))*100:0.2f}%\")"
   ]
  },
  {
   "cell_type": "markdown",
   "metadata": {},
   "source": [
    "# К сожалению у меня не получилось полноценно использовать стекинг так как кернель падал каждый раз при подборе параметров из-за слабых вычислительных мощностей моего ноутбука."
   ]
  },
  {
   "cell_type": "markdown",
   "metadata": {
    "papermill": {
     "duration": 0.085876,
     "end_time": "2020-10-26T12:48:12.734207",
     "exception": false,
     "start_time": "2020-10-26T12:48:12.648331",
     "status": "completed"
    },
    "tags": []
   },
   "source": [
    "# Submission"
   ]
  },
  {
   "cell_type": "code",
   "execution_count": 29,
   "metadata": {
    "execution": {
     "iopub.execute_input": "2020-10-26T12:48:13.227584Z",
     "iopub.status.busy": "2020-10-26T12:48:13.226285Z",
     "iopub.status.idle": "2020-10-26T12:48:13.762529Z",
     "shell.execute_reply": "2020-10-26T12:48:13.763259Z"
    },
    "papermill": {
     "duration": 0.628302,
     "end_time": "2020-10-26T12:48:13.763488",
     "exception": false,
     "start_time": "2020-10-26T12:48:13.135186",
     "status": "completed"
    },
    "tags": []
   },
   "outputs": [
    {
     "data": {
      "text/html": [
       "<div>\n",
       "<style scoped>\n",
       "    .dataframe tbody tr th:only-of-type {\n",
       "        vertical-align: middle;\n",
       "    }\n",
       "\n",
       "    .dataframe tbody tr th {\n",
       "        vertical-align: top;\n",
       "    }\n",
       "\n",
       "    .dataframe thead th {\n",
       "        text-align: right;\n",
       "    }\n",
       "</style>\n",
       "<table border=\"1\" class=\"dataframe\">\n",
       "  <thead>\n",
       "    <tr style=\"text-align: right;\">\n",
       "      <th></th>\n",
       "      <th>sell_id</th>\n",
       "      <th>price</th>\n",
       "    </tr>\n",
       "  </thead>\n",
       "  <tbody>\n",
       "    <tr>\n",
       "      <th>0</th>\n",
       "      <td>1100575026</td>\n",
       "      <td>5.204954e+05</td>\n",
       "    </tr>\n",
       "    <tr>\n",
       "      <th>1</th>\n",
       "      <td>1100549428</td>\n",
       "      <td>7.873675e+05</td>\n",
       "    </tr>\n",
       "    <tr>\n",
       "      <th>2</th>\n",
       "      <td>1100658222</td>\n",
       "      <td>7.642492e+05</td>\n",
       "    </tr>\n",
       "    <tr>\n",
       "      <th>3</th>\n",
       "      <td>1100937408</td>\n",
       "      <td>5.896639e+05</td>\n",
       "    </tr>\n",
       "    <tr>\n",
       "      <th>4</th>\n",
       "      <td>1101037972</td>\n",
       "      <td>6.054515e+05</td>\n",
       "    </tr>\n",
       "    <tr>\n",
       "      <th>5</th>\n",
       "      <td>1100912634</td>\n",
       "      <td>7.099386e+05</td>\n",
       "    </tr>\n",
       "    <tr>\n",
       "      <th>6</th>\n",
       "      <td>1101228730</td>\n",
       "      <td>5.805141e+05</td>\n",
       "    </tr>\n",
       "    <tr>\n",
       "      <th>7</th>\n",
       "      <td>1100165896</td>\n",
       "      <td>4.046079e+05</td>\n",
       "    </tr>\n",
       "    <tr>\n",
       "      <th>8</th>\n",
       "      <td>1100768262</td>\n",
       "      <td>1.266279e+06</td>\n",
       "    </tr>\n",
       "    <tr>\n",
       "      <th>9</th>\n",
       "      <td>1101218501</td>\n",
       "      <td>6.049486e+05</td>\n",
       "    </tr>\n",
       "  </tbody>\n",
       "</table>\n",
       "</div>"
      ],
      "text/plain": [
       "      sell_id         price\n",
       "0  1100575026  5.204954e+05\n",
       "1  1100549428  7.873675e+05\n",
       "2  1100658222  7.642492e+05\n",
       "3  1100937408  5.896639e+05\n",
       "4  1101037972  6.054515e+05\n",
       "5  1100912634  7.099386e+05\n",
       "6  1101228730  5.805141e+05\n",
       "7  1100165896  4.046079e+05\n",
       "8  1100768262  1.266279e+06\n",
       "9  1101218501  6.049486e+05"
      ]
     },
     "execution_count": 29,
     "metadata": {},
     "output_type": "execute_result"
    }
   ],
   "source": [
    "sample_submission['price'] = predict_submission\n",
    "sample_submission.to_csv(f'Submission.csv', index=False)\n",
    "sample_submission.head(10)"
   ]
  },
  {
   "cell_type": "code",
   "execution_count": null,
   "metadata": {
    "papermill": {
     "duration": 0.082055,
     "end_time": "2020-10-26T12:48:14.270602",
     "exception": false,
     "start_time": "2020-10-26T12:48:14.188547",
     "status": "completed"
    },
    "tags": []
   },
   "outputs": [],
   "source": []
  },
  {
   "cell_type": "code",
   "execution_count": null,
   "metadata": {
    "papermill": {
     "duration": 0.08168,
     "end_time": "2020-10-26T12:48:14.435554",
     "exception": false,
     "start_time": "2020-10-26T12:48:14.353874",
     "status": "completed"
    },
    "tags": []
   },
   "outputs": [],
   "source": []
  },
  {
   "cell_type": "code",
   "execution_count": null,
   "metadata": {
    "papermill": {
     "duration": 0.080788,
     "end_time": "2020-10-26T12:48:14.596978",
     "exception": false,
     "start_time": "2020-10-26T12:48:14.51619",
     "status": "completed"
    },
    "tags": []
   },
   "outputs": [],
   "source": []
  }
 ],
 "metadata": {
  "kernelspec": {
   "display_name": "Python 3",
   "language": "python",
   "name": "python3"
  },
  "language_info": {
   "codemirror_mode": {
    "name": "ipython",
    "version": 3
   },
   "file_extension": ".py",
   "mimetype": "text/x-python",
   "name": "python",
   "nbconvert_exporter": "python",
   "pygments_lexer": "ipython3",
   "version": "3.8.3"
  }
 },
 "nbformat": 4,
 "nbformat_minor": 4
}
